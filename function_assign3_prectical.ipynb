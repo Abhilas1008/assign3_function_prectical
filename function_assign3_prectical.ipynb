{
 "cells": [
  {
   "cell_type": "code",
   "execution_count": 5,
   "id": "7e3774aa-a687-44c0-8e10-2824be44acd4",
   "metadata": {},
   "outputs": [],
   "source": [
    "# Q1. Write a Python function that takes a list of numbers as input and returns the sum of all even numbers in\n",
    "# the list.\n",
    "# Ans:\n",
    "\n",
    "def sum_even_numbers(numbers):\n",
    "    sum_even = 0\n",
    "    for num in numbers:\n",
    "        if num % 2 == 0:\n",
    "            sum_even += num\n",
    "    return sum_even"
   ]
  },
  {
   "cell_type": "code",
   "execution_count": 6,
   "id": "39cdbf0a-e3d7-4ab3-b902-b9fe3d01bf20",
   "metadata": {},
   "outputs": [],
   "source": [
    "lis = [3,2,33,44,56,75,4,68,7,77,99,90,6]"
   ]
  },
  {
   "cell_type": "code",
   "execution_count": 9,
   "id": "cfe272c3-7c15-4959-9211-2d907c63c9f9",
   "metadata": {},
   "outputs": [
    {
     "data": {
      "text/plain": [
       "270"
      ]
     },
     "execution_count": 9,
     "metadata": {},
     "output_type": "execute_result"
    }
   ],
   "source": [
    "sum_even_numbers(lis)"
   ]
  },
  {
   "cell_type": "code",
   "execution_count": 11,
   "id": "1edf833a-45eb-4de4-ba95-3eb73278ab88",
   "metadata": {},
   "outputs": [],
   "source": [
    "# Q.2: 2. Create a Python function that accepts a string and returns the reverse of that string.\n",
    "# Ans:\n",
    "def reverse_string(input_string):\n",
    "    return input_string[::-1]\n"
   ]
  },
  {
   "cell_type": "code",
   "execution_count": 12,
   "id": "1c4f999a-66ed-4b19-8a3d-b9a2d2c46a86",
   "metadata": {},
   "outputs": [
    {
     "data": {
      "text/plain": [
       "'ihba olleh'"
      ]
     },
     "execution_count": 12,
     "metadata": {},
     "output_type": "execute_result"
    }
   ],
   "source": [
    "s= \"hello abhi\"\n",
    "reverse_string(s)"
   ]
  },
  {
   "cell_type": "code",
   "execution_count": 14,
   "id": "83501253-1eb4-45cb-b347-dcc7fa313a5e",
   "metadata": {},
   "outputs": [],
   "source": [
    "# Q.3:3. Implement a Python function that takes a list of integers and returns a new list containing the squares of\n",
    "# each number.\n",
    "# Ans:\n",
    "def square_numbers(numbers):\n",
    "    squares = [num ** 2 for num in numbers]\n",
    "    return squares\n",
    "\n"
   ]
  },
  {
   "cell_type": "code",
   "execution_count": 18,
   "id": "a2595324-dfc7-495e-80c7-2c27cb437925",
   "metadata": {},
   "outputs": [
    {
     "data": {
      "text/plain": [
       "[4, 9, 16, 25, 36]"
      ]
     },
     "execution_count": 18,
     "metadata": {},
     "output_type": "execute_result"
    }
   ],
   "source": [
    "n = [2,3,4,5,6]\n",
    "square_numbers(num)"
   ]
  },
  {
   "cell_type": "code",
   "execution_count": 17,
   "id": "a6bb3e94-387a-4ef2-a5d5-0f864a44172d",
   "metadata": {},
   "outputs": [],
   "source": [
    "# Q.4: Write a Python function that checks if a given number is prime or not from 1 to 200.\n",
    "# Ans:\n",
    "def is_prime(number):\n",
    "    if number <= 1:\n",
    "        return False\n",
    "    if number == 2:\n",
    "        return True  # 2 is the only even prime number\n",
    "    if number % 2 == 0:\n",
    "        return False  # Other even numbers are not prime\n",
    "    \n",
    "    # Check for odd factors from 3 up to the square root of the number\n",
    "    for i in range(3, int(number**0.5) + 1, 2):\n",
    "        if number % i == 0:\n",
    "            return False\n",
    "    \n",
    "    return True\n"
   ]
  },
  {
   "cell_type": "code",
   "execution_count": 22,
   "id": "f64fca83-097a-40fb-824e-9b6ccbe6e6be",
   "metadata": {},
   "outputs": [
    {
     "name": "stdout",
     "output_type": "stream",
     "text": [
      "1 is not prime\n",
      "2 is prime\n",
      "3 is prime\n",
      "4 is not prime\n",
      "5 is prime\n",
      "17 is prime\n",
      "50 is not prime\n",
      "97 is prime\n",
      "100 is not prime\n",
      "199 is prime\n",
      "200 is not prime\n"
     ]
    }
   ],
   "source": [
    "# Test cases\n",
    "numbers_to_test = [1, 2, 3, 4, 5, 17, 50, 97, 100, 199, 200]\n",
    "\n",
    "for number in numbers_to_test:\n",
    "    if is_prime(number):\n",
    "        print(f\"{number} is prime\")\n",
    "    else:\n",
    "        print(f\"{number} is not prime\")\n"
   ]
  },
  {
   "cell_type": "code",
   "execution_count": null,
   "id": "9fae6116-1ae2-4b7e-b65a-be18e11183f4",
   "metadata": {},
   "outputs": [],
   "source": []
  },
  {
   "cell_type": "code",
   "execution_count": null,
   "id": "4d39519e-d332-49a0-853e-7e51083ffc77",
   "metadata": {},
   "outputs": [],
   "source": [
    "# Q.5:Create an iterator class in Python that generates the Fibonacci sequence up to a specified number of\n",
    "# terms.\n",
    "# Ans:\n",
    "class FibonacciIterator:\n",
    "    def __init__(self, max_terms):\n",
    "        self.max_terms = max_terms\n",
    "        self.current_term = 0\n",
    "        self.a, self.b = 0, 1\n",
    "        self.count = 0\n",
    "    \n",
    "    def __iter__(self):\n",
    "        return self\n",
    "    \n",
    "    def __next__(self):\n",
    "        if self.count >= self.max_terms:\n",
    "            raise StopIteration\n",
    "        elif self.current_term == 0:\n",
    "            self.current_term += 1\n",
    "            self.count += 1\n",
    "            return 0\n",
    "        elif self.current_term == 1:\n",
    "            return 1\n",
    "        else:\n",
    "            self.a, self.b = self.b, self.a + self.b\n",
    "            self.count += 1\n",
    "            return self.a\n",
    "\n",
    "# Example:\n",
    "fibonacci = FibonacciIterator(10)  # Generate Fibonacci sequence up to 10 terms\n",
    "\n",
    "for num in fibonacci:\n",
    "    print(num)\n"
   ]
  },
  {
   "cell_type": "code",
   "execution_count": 1,
   "id": "4be29dbf-6190-4517-8767-64b211ef9d69",
   "metadata": {},
   "outputs": [],
   "source": [
    "# Q.6:Write a generator function in Python that yields the powers of 2 up to a given exponent.\n",
    "# Ans:\n",
    "def powers_of_two(up_to_exponent):\n",
    "    exponent = 0\n",
    "    while exponent <= up_to_exponent:\n",
    "        yield 2 ** exponent\n",
    "        exponent += 1\n",
    "\n",
    "\n",
    "\n"
   ]
  },
  {
   "cell_type": "code",
   "execution_count": 2,
   "id": "0fec4925-c7c0-43eb-8573-6df6f939d281",
   "metadata": {},
   "outputs": [
    {
     "name": "stdout",
     "output_type": "stream",
     "text": [
      "1\n",
      "2\n",
      "4\n",
      "8\n",
      "16\n",
      "32\n"
     ]
    }
   ],
   "source": [
    "# Example usage:\n",
    "exponent_limit = 5  # Generate powers of 2 up to 2^5\n",
    "for power in powers_of_two(exponent_limit):\n",
    "    print(power)"
   ]
  },
  {
   "cell_type": "code",
   "execution_count": 3,
   "id": "fe88648d-cb77-45b3-bf55-f77c79068c44",
   "metadata": {},
   "outputs": [],
   "source": [
    "# Q.7: Implement a generator function that reads a file line by line and yields each line as a string\n",
    "# Ans:\n",
    "def read_file_line_by_line(filename):\n",
    "    with open(filename, 'r') as file:  #'r' = file name\n",
    "        for line in file:\n",
    "            yield line.strip()\n",
    "\n",
    "# Example usage:\n",
    "filename = 'example.txt' \n",
    "for line in read_file_line_by_line(filename):\n",
    "    print(line)\n"
   ]
  },
  {
   "cell_type": "code",
   "execution_count": 6,
   "id": "5ad0b1b1-4671-456d-8a9a-8ffd16a7c68c",
   "metadata": {},
   "outputs": [
    {
     "name": "stdout",
     "output_type": "stream",
     "text": [
      "[(5, 1), (3, 2), (7, 3), (1, 5), (8, 10)]\n"
     ]
    }
   ],
   "source": [
    "# Q.8: Use a lambda function in Python to sort a list of tuples based on the second element of each tuple.\n",
    "# Ans:\n",
    "# List of tuples\n",
    "tuple_list = [(1, 5), (3, 2), (8, 10), (5, 1), (7, 3)]\n",
    "\n",
    "# Sorting based on the second element of each tuple\n",
    "sorted_list = sorted(tuple_list, key=lambda x: x[1])\n",
    "\n",
    "print(sorted_list)\n"
   ]
  },
  {
   "cell_type": "code",
   "execution_count": 7,
   "id": "2ed789ba-f734-4785-9bfe-28f66c5d1605",
   "metadata": {},
   "outputs": [
    {
     "name": "stdout",
     "output_type": "stream",
     "text": [
      "Celsius Temperatures: [0, 10, 20, 30, 40]\n",
      "Fahrenheit Temperatures: [32.0, 50.0, 68.0, 86.0, 104.0]\n"
     ]
    }
   ],
   "source": [
    "# Q.9:  Write a Python program that uses `map()` to convert a list of temperatures from Celsius to Fahrenheit.\n",
    "# Ans:\n",
    "# Function to convert Celsius to Fahrenheit\n",
    "def celsius_to_fahrenheit(celsius):\n",
    "    return (celsius * 9/5) + 32\n",
    "\n",
    "# List of temperatures in Celsius\n",
    "celsius_temperatures = [0, 10, 20, 30, 40]\n",
    "\n",
    "# Using map() to convert Celsius to Fahrenheit\n",
    "fahrenheit_temperatures = list(map(lambda x: celsius_to_fahrenheit(x), celsius_temperatures))\n",
    "\n",
    "# Print the results\n",
    "print(\"Celsius Temperatures:\", celsius_temperatures)\n",
    "print(\"Fahrenheit Temperatures:\", fahrenheit_temperatures)\n"
   ]
  },
  {
   "cell_type": "code",
   "execution_count": 8,
   "id": "d2660e9e-fa56-48b2-be1a-d97bb3662e53",
   "metadata": {},
   "outputs": [
    {
     "name": "stdout",
     "output_type": "stream",
     "text": [
      "Original string: Hello, World!\n",
      "String without vowels: Hll, Wrld!\n"
     ]
    }
   ],
   "source": [
    "# Q.10: Create a Python program that uses `filter()` to remove all the vowels from a given string.\n",
    "# Ans:\n",
    "def remove_vowels(input_string):\n",
    "    vowels = 'aeiouAEIOU'\n",
    "    return ''.join(filter(lambda x: x not in vowels, input_string))\n",
    "\n",
    "# Example usage:\n",
    "input_str = \"Hello, World!\"\n",
    "result = remove_vowels(input_str)\n",
    "print(\"Original string:\", input_str)\n",
    "print(\"String without vowels:\", result)\n"
   ]
  },
  {
   "cell_type": "code",
   "execution_count": null,
   "id": "a2c67e35-ea29-4373-8eaf-74e18ac428ef",
   "metadata": {},
   "outputs": [],
   "source": [
    "# Q.11:\n",
    "# Ans:\n"
   ]
  }
 ],
 "metadata": {
  "kernelspec": {
   "display_name": "Python 3 (ipykernel)",
   "language": "python",
   "name": "python3"
  },
  "language_info": {
   "codemirror_mode": {
    "name": "ipython",
    "version": 3
   },
   "file_extension": ".py",
   "mimetype": "text/x-python",
   "name": "python",
   "nbconvert_exporter": "python",
   "pygments_lexer": "ipython3",
   "version": "3.10.8"
  }
 },
 "nbformat": 4,
 "nbformat_minor": 5
}
